{
  "nbformat": 4,
  "nbformat_minor": 0,
  "metadata": {
    "colab": {
      "name": "Torrent Server",
      "provenance": []
    },
    "kernelspec": {
      "name": "python3",
      "display_name": "Python 3"
    }
  },
  "cells": [
    {
      "cell_type": "markdown",
      "metadata": {
        "id": "b44sLMHsMXIy"
      },
      "source": [
        "Torrent Server for Torrenting"
      ]
    },
    {
      "cell_type": "code",
      "metadata": {
        "id": "s9AZkvr0LuuC"
      },
      "source": [
        "from google.colab import drive\r\n",
        "drive.mount('/content/drive/')"
      ],
      "execution_count": null,
      "outputs": []
    },
    {
      "cell_type": "code",
      "metadata": {
        "id": "dx8OrMAoMCiK"
      },
      "source": [
        "%cd '/content/drive/Shareddrives/Stockage Drive Illimité/Torrent'\r\n",
        "!add-apt-repository ppa:qbittorrent-team/qbittorrent-stable -y\r\n",
        "!apt install qbittorrent-nox"
      ],
      "execution_count": null,
      "outputs": []
    },
    {
      "cell_type": "code",
      "metadata": {
        "id": "DH2hcmtdNJH7"
      },
      "source": [
        "TOKEN = \"PUT YOUR NGROK TOKEN HERE\"\r\n",
        "\r\n",
        "def install_ngrok():\r\n",
        "    import os\r\n",
        "    from zipfile import ZipFile\r\n",
        "    from urllib.request import urlretrieve\r\n",
        "    \r\n",
        "    url = 'https://bin.equinox.io/c/4VmDzA7iaHb/ngrok-stable-linux-amd64.zip'\r\n",
        "    urlretrieve(url, 'ngrok-amd64.zip')\r\n",
        "    \r\n",
        "    with ZipFile('ngrok-amd64.zip', 'r') as zip_ref:\r\n",
        "        zip_ref.extractall('/usr/local/bin/')\r\n",
        "    os.chmod('/usr/local/bin/ngrok', 0o755)\r\n",
        "    os.unlink('ngrok-amd64.zip')\r\n",
        "\r\n",
        "install_ngrok()\r\n",
        "if TOKEN != \"\":\r\n",
        "    !ngrok authtoken $TOKEN "
      ],
      "execution_count": null,
      "outputs": []
    },
    {
      "cell_type": "code",
      "metadata": {
        "id": "M8QVNm7KNXJz"
      },
      "source": [
        "import threading\r\n",
        "import time\r\n",
        "import requests\r\n",
        "import json\r\n",
        "import subprocess\r\n",
        "\r\n",
        "def torrent(port):\r\n",
        "    command = subprocess.Popen(['qbittorrent-nox', f'--webui-port={port}'])\r\n",
        "\r\n",
        "def ngrok(port):\r\n",
        "    \r\n",
        "    ngrok_cmd = subprocess.Popen(['ngrok', 'http', str(port)])    \r\n",
        "    localhost_url = \"http://localhost:4040/api/tunnels\"\r\n",
        "\r\n",
        "    time.sleep(1)\r\n",
        "    tunnel_url = requests.get(localhost_url).text\r\n",
        "    json_data = json.loads(tunnel_url)\r\n",
        "\r\n",
        "    tunnel_url = json_data['tunnels'][0]['public_url']\r\n",
        "    tunnel_url = tunnel_url.replace(\"https\", \"http\")\r\n",
        "    print('Running at localhost: ' + str(port))\r\n",
        "    print(tunnel_url)\r\n",
        "\r\n",
        "if __name__ == '__main__':\r\n",
        "    \r\n",
        "    port = 9999\r\n",
        "\r\n",
        "    thread_torrent = threading.Thread(target = torrent, args=(int(port),))\r\n",
        "    thread_ngrok = threading.Thread(target = ngrok, args=(int(port),))\r\n",
        "\r\n",
        "    thread_torrent.start()\r\n",
        "    print('Torrent server started!')\r\n",
        "\r\n",
        "    time.sleep(5)\r\n",
        "    print('Establishing secure connection!')\r\n",
        "    \r\n",
        "    thread_ngrok.start()\r\n",
        "    print('Secure connection established...')\r\n",
        "    print('Username: admin')\r\n",
        "    print('password: adminadmin')\r\n",
        "    \r\n",
        "    thread_ngrok.join()\r\n",
        "    thread_torrent.join()"
      ],
      "execution_count": null,
      "outputs": []
    }
  ]
}